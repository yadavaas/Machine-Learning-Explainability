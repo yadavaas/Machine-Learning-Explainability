{
 "cells": [
  {
   "cell_type": "markdown",
   "id": "ad7375f9",
   "metadata": {
    "papermill": {
     "duration": 0.006488,
     "end_time": "2022-07-11T09:21:23.979546",
     "exception": false,
     "start_time": "2022-07-11T09:21:23.973058",
     "status": "completed"
    },
    "tags": []
   },
   "source": [
    "**This notebook is an exercise in the [Machine Learning Explainability](https://www.kaggle.com/learn/machine-learning-explainability) course.  You can reference the tutorial at [this link](https://www.kaggle.com/dansbecker/permutation-importance).**\n",
    "\n",
    "---\n"
   ]
  },
  {
   "cell_type": "markdown",
   "id": "8e3d2195",
   "metadata": {
    "papermill": {
     "duration": 0.004398,
     "end_time": "2022-07-11T09:21:23.988956",
     "exception": false,
     "start_time": "2022-07-11T09:21:23.984558",
     "status": "completed"
    },
    "tags": []
   },
   "source": [
    "## Intro\n",
    "\n",
    "You will think about and calculate permutation importance with a sample of data from the [Taxi Fare Prediction](https://www.kaggle.com/c/new-york-city-taxi-fare-prediction) competition.\n",
    "\n",
    "We won't focus on data exploration or model building for now. You can just run the cell below to \n",
    "- Load the data\n",
    "- Divide the data into training and validation\n",
    "- Build a model that predicts taxi fares\n",
    "- Print a few rows for you to review"
   ]
  },
  {
   "cell_type": "code",
   "execution_count": 1,
   "id": "4db2500d",
   "metadata": {
    "execution": {
     "iopub.execute_input": "2022-07-11T09:21:24.000747Z",
     "iopub.status.busy": "2022-07-11T09:21:23.999972Z",
     "iopub.status.idle": "2022-07-11T09:21:32.724016Z",
     "shell.execute_reply": "2022-07-11T09:21:32.722749Z"
    },
    "papermill": {
     "duration": 8.732864,
     "end_time": "2022-07-11T09:21:32.726586",
     "exception": false,
     "start_time": "2022-07-11T09:21:23.993722",
     "status": "completed"
    },
    "tags": []
   },
   "outputs": [
    {
     "name": "stdout",
     "output_type": "stream",
     "text": [
      "Setup Complete\n",
      "Data sample:\n"
     ]
    },
    {
     "data": {
      "text/html": [
       "<div>\n",
       "<style scoped>\n",
       "    .dataframe tbody tr th:only-of-type {\n",
       "        vertical-align: middle;\n",
       "    }\n",
       "\n",
       "    .dataframe tbody tr th {\n",
       "        vertical-align: top;\n",
       "    }\n",
       "\n",
       "    .dataframe thead th {\n",
       "        text-align: right;\n",
       "    }\n",
       "</style>\n",
       "<table border=\"1\" class=\"dataframe\">\n",
       "  <thead>\n",
       "    <tr style=\"text-align: right;\">\n",
       "      <th></th>\n",
       "      <th>key</th>\n",
       "      <th>fare_amount</th>\n",
       "      <th>pickup_datetime</th>\n",
       "      <th>pickup_longitude</th>\n",
       "      <th>pickup_latitude</th>\n",
       "      <th>dropoff_longitude</th>\n",
       "      <th>dropoff_latitude</th>\n",
       "      <th>passenger_count</th>\n",
       "    </tr>\n",
       "  </thead>\n",
       "  <tbody>\n",
       "    <tr>\n",
       "      <th>2</th>\n",
       "      <td>2011-08-18 00:35:00.00000049</td>\n",
       "      <td>5.7</td>\n",
       "      <td>2011-08-18 00:35:00 UTC</td>\n",
       "      <td>-73.982738</td>\n",
       "      <td>40.761270</td>\n",
       "      <td>-73.991242</td>\n",
       "      <td>40.750562</td>\n",
       "      <td>2</td>\n",
       "    </tr>\n",
       "    <tr>\n",
       "      <th>3</th>\n",
       "      <td>2012-04-21 04:30:42.0000001</td>\n",
       "      <td>7.7</td>\n",
       "      <td>2012-04-21 04:30:42 UTC</td>\n",
       "      <td>-73.987130</td>\n",
       "      <td>40.733143</td>\n",
       "      <td>-73.991567</td>\n",
       "      <td>40.758092</td>\n",
       "      <td>1</td>\n",
       "    </tr>\n",
       "    <tr>\n",
       "      <th>4</th>\n",
       "      <td>2010-03-09 07:51:00.000000135</td>\n",
       "      <td>5.3</td>\n",
       "      <td>2010-03-09 07:51:00 UTC</td>\n",
       "      <td>-73.968095</td>\n",
       "      <td>40.768008</td>\n",
       "      <td>-73.956655</td>\n",
       "      <td>40.783762</td>\n",
       "      <td>1</td>\n",
       "    </tr>\n",
       "    <tr>\n",
       "      <th>6</th>\n",
       "      <td>2012-11-20 20:35:00.0000001</td>\n",
       "      <td>7.5</td>\n",
       "      <td>2012-11-20 20:35:00 UTC</td>\n",
       "      <td>-73.980002</td>\n",
       "      <td>40.751662</td>\n",
       "      <td>-73.973802</td>\n",
       "      <td>40.764842</td>\n",
       "      <td>1</td>\n",
       "    </tr>\n",
       "    <tr>\n",
       "      <th>7</th>\n",
       "      <td>2012-01-04 17:22:00.00000081</td>\n",
       "      <td>16.5</td>\n",
       "      <td>2012-01-04 17:22:00 UTC</td>\n",
       "      <td>-73.951300</td>\n",
       "      <td>40.774138</td>\n",
       "      <td>-73.990095</td>\n",
       "      <td>40.751048</td>\n",
       "      <td>1</td>\n",
       "    </tr>\n",
       "  </tbody>\n",
       "</table>\n",
       "</div>"
      ],
      "text/plain": [
       "                             key  fare_amount          pickup_datetime  \\\n",
       "2   2011-08-18 00:35:00.00000049          5.7  2011-08-18 00:35:00 UTC   \n",
       "3    2012-04-21 04:30:42.0000001          7.7  2012-04-21 04:30:42 UTC   \n",
       "4  2010-03-09 07:51:00.000000135          5.3  2010-03-09 07:51:00 UTC   \n",
       "6    2012-11-20 20:35:00.0000001          7.5  2012-11-20 20:35:00 UTC   \n",
       "7   2012-01-04 17:22:00.00000081         16.5  2012-01-04 17:22:00 UTC   \n",
       "\n",
       "   pickup_longitude  pickup_latitude  dropoff_longitude  dropoff_latitude  \\\n",
       "2        -73.982738        40.761270         -73.991242         40.750562   \n",
       "3        -73.987130        40.733143         -73.991567         40.758092   \n",
       "4        -73.968095        40.768008         -73.956655         40.783762   \n",
       "6        -73.980002        40.751662         -73.973802         40.764842   \n",
       "7        -73.951300        40.774138         -73.990095         40.751048   \n",
       "\n",
       "   passenger_count  \n",
       "2                2  \n",
       "3                1  \n",
       "4                1  \n",
       "6                1  \n",
       "7                1  "
      ]
     },
     "execution_count": 1,
     "metadata": {},
     "output_type": "execute_result"
    }
   ],
   "source": [
    "# Loading data, dividing, modeling and EDA below\n",
    "import pandas as pd\n",
    "from sklearn.ensemble import RandomForestRegressor\n",
    "from sklearn.linear_model import LinearRegression\n",
    "from sklearn.model_selection import train_test_split\n",
    "\n",
    "data = pd.read_csv('../input/new-york-city-taxi-fare-prediction/train.csv', nrows=50000)\n",
    "\n",
    "# Remove data with extreme outlier coordinates or negative fares\n",
    "data = data.query('pickup_latitude > 40.7 and pickup_latitude < 40.8 and ' +\n",
    "                  'dropoff_latitude > 40.7 and dropoff_latitude < 40.8 and ' +\n",
    "                  'pickup_longitude > -74 and pickup_longitude < -73.9 and ' +\n",
    "                  'dropoff_longitude > -74 and dropoff_longitude < -73.9 and ' +\n",
    "                  'fare_amount > 0'\n",
    "                  )\n",
    "\n",
    "y = data.fare_amount\n",
    "\n",
    "base_features = ['pickup_longitude',\n",
    "                 'pickup_latitude',\n",
    "                 'dropoff_longitude',\n",
    "                 'dropoff_latitude',\n",
    "                 'passenger_count']\n",
    "\n",
    "X = data[base_features]\n",
    "\n",
    "\n",
    "train_X, val_X, train_y, val_y = train_test_split(X, y, random_state=1)\n",
    "first_model = RandomForestRegressor(n_estimators=50, random_state=1).fit(train_X, train_y)\n",
    "\n",
    "# Environment Set-Up for feedback system.\n",
    "from learntools.core import binder\n",
    "binder.bind(globals())\n",
    "from learntools.ml_explainability.ex2 import *\n",
    "print(\"Setup Complete\")\n",
    "\n",
    "# show data\n",
    "print(\"Data sample:\")\n",
    "data.head()"
   ]
  },
  {
   "cell_type": "markdown",
   "id": "4184a628",
   "metadata": {
    "papermill": {
     "duration": 0.004666,
     "end_time": "2022-07-11T09:21:32.736523",
     "exception": false,
     "start_time": "2022-07-11T09:21:32.731857",
     "status": "completed"
    },
    "tags": []
   },
   "source": [
    "The following two cells may also be useful to understand the values in the training data:"
   ]
  },
  {
   "cell_type": "code",
   "execution_count": 2,
   "id": "291dfb58",
   "metadata": {
    "execution": {
     "iopub.execute_input": "2022-07-11T09:21:32.748535Z",
     "iopub.status.busy": "2022-07-11T09:21:32.747858Z",
     "iopub.status.idle": "2022-07-11T09:21:32.782813Z",
     "shell.execute_reply": "2022-07-11T09:21:32.781951Z"
    },
    "papermill": {
     "duration": 0.043274,
     "end_time": "2022-07-11T09:21:32.784802",
     "exception": false,
     "start_time": "2022-07-11T09:21:32.741528",
     "status": "completed"
    },
    "tags": []
   },
   "outputs": [
    {
     "data": {
      "text/html": [
       "<div>\n",
       "<style scoped>\n",
       "    .dataframe tbody tr th:only-of-type {\n",
       "        vertical-align: middle;\n",
       "    }\n",
       "\n",
       "    .dataframe tbody tr th {\n",
       "        vertical-align: top;\n",
       "    }\n",
       "\n",
       "    .dataframe thead th {\n",
       "        text-align: right;\n",
       "    }\n",
       "</style>\n",
       "<table border=\"1\" class=\"dataframe\">\n",
       "  <thead>\n",
       "    <tr style=\"text-align: right;\">\n",
       "      <th></th>\n",
       "      <th>pickup_longitude</th>\n",
       "      <th>pickup_latitude</th>\n",
       "      <th>dropoff_longitude</th>\n",
       "      <th>dropoff_latitude</th>\n",
       "      <th>passenger_count</th>\n",
       "    </tr>\n",
       "  </thead>\n",
       "  <tbody>\n",
       "    <tr>\n",
       "      <th>count</th>\n",
       "      <td>23466.000000</td>\n",
       "      <td>23466.000000</td>\n",
       "      <td>23466.000000</td>\n",
       "      <td>23466.000000</td>\n",
       "      <td>23466.000000</td>\n",
       "    </tr>\n",
       "    <tr>\n",
       "      <th>mean</th>\n",
       "      <td>-73.976827</td>\n",
       "      <td>40.756931</td>\n",
       "      <td>-73.975359</td>\n",
       "      <td>40.757434</td>\n",
       "      <td>1.662320</td>\n",
       "    </tr>\n",
       "    <tr>\n",
       "      <th>std</th>\n",
       "      <td>0.014625</td>\n",
       "      <td>0.018206</td>\n",
       "      <td>0.015930</td>\n",
       "      <td>0.018659</td>\n",
       "      <td>1.290729</td>\n",
       "    </tr>\n",
       "    <tr>\n",
       "      <th>min</th>\n",
       "      <td>-73.999999</td>\n",
       "      <td>40.700013</td>\n",
       "      <td>-73.999999</td>\n",
       "      <td>40.700020</td>\n",
       "      <td>0.000000</td>\n",
       "    </tr>\n",
       "    <tr>\n",
       "      <th>25%</th>\n",
       "      <td>-73.987964</td>\n",
       "      <td>40.744901</td>\n",
       "      <td>-73.987143</td>\n",
       "      <td>40.745756</td>\n",
       "      <td>1.000000</td>\n",
       "    </tr>\n",
       "    <tr>\n",
       "      <th>50%</th>\n",
       "      <td>-73.979629</td>\n",
       "      <td>40.758076</td>\n",
       "      <td>-73.978588</td>\n",
       "      <td>40.758542</td>\n",
       "      <td>1.000000</td>\n",
       "    </tr>\n",
       "    <tr>\n",
       "      <th>75%</th>\n",
       "      <td>-73.967797</td>\n",
       "      <td>40.769602</td>\n",
       "      <td>-73.966459</td>\n",
       "      <td>40.770406</td>\n",
       "      <td>2.000000</td>\n",
       "    </tr>\n",
       "    <tr>\n",
       "      <th>max</th>\n",
       "      <td>-73.900062</td>\n",
       "      <td>40.799952</td>\n",
       "      <td>-73.900062</td>\n",
       "      <td>40.799999</td>\n",
       "      <td>6.000000</td>\n",
       "    </tr>\n",
       "  </tbody>\n",
       "</table>\n",
       "</div>"
      ],
      "text/plain": [
       "       pickup_longitude  pickup_latitude  dropoff_longitude  dropoff_latitude  \\\n",
       "count      23466.000000     23466.000000       23466.000000      23466.000000   \n",
       "mean         -73.976827        40.756931         -73.975359         40.757434   \n",
       "std            0.014625         0.018206           0.015930          0.018659   \n",
       "min          -73.999999        40.700013         -73.999999         40.700020   \n",
       "25%          -73.987964        40.744901         -73.987143         40.745756   \n",
       "50%          -73.979629        40.758076         -73.978588         40.758542   \n",
       "75%          -73.967797        40.769602         -73.966459         40.770406   \n",
       "max          -73.900062        40.799952         -73.900062         40.799999   \n",
       "\n",
       "       passenger_count  \n",
       "count     23466.000000  \n",
       "mean          1.662320  \n",
       "std           1.290729  \n",
       "min           0.000000  \n",
       "25%           1.000000  \n",
       "50%           1.000000  \n",
       "75%           2.000000  \n",
       "max           6.000000  "
      ]
     },
     "execution_count": 2,
     "metadata": {},
     "output_type": "execute_result"
    }
   ],
   "source": [
    "train_X.describe()"
   ]
  },
  {
   "cell_type": "code",
   "execution_count": 3,
   "id": "f0536014",
   "metadata": {
    "execution": {
     "iopub.execute_input": "2022-07-11T09:21:32.797017Z",
     "iopub.status.busy": "2022-07-11T09:21:32.796458Z",
     "iopub.status.idle": "2022-07-11T09:21:32.805849Z",
     "shell.execute_reply": "2022-07-11T09:21:32.805096Z"
    },
    "papermill": {
     "duration": 0.018204,
     "end_time": "2022-07-11T09:21:32.808172",
     "exception": false,
     "start_time": "2022-07-11T09:21:32.789968",
     "status": "completed"
    },
    "tags": []
   },
   "outputs": [
    {
     "data": {
      "text/plain": [
       "count    23466.000000\n",
       "mean         8.472539\n",
       "std          4.609747\n",
       "min          0.010000\n",
       "25%          5.500000\n",
       "50%          7.500000\n",
       "75%         10.100000\n",
       "max        165.000000\n",
       "Name: fare_amount, dtype: float64"
      ]
     },
     "execution_count": 3,
     "metadata": {},
     "output_type": "execute_result"
    }
   ],
   "source": [
    "train_y.describe()"
   ]
  },
  {
   "cell_type": "markdown",
   "id": "866da841",
   "metadata": {
    "papermill": {
     "duration": 0.005298,
     "end_time": "2022-07-11T09:21:32.818932",
     "exception": false,
     "start_time": "2022-07-11T09:21:32.813634",
     "status": "completed"
    },
    "tags": []
   },
   "source": [
    "## Question 1\n",
    "\n",
    "The first model uses the following features\n",
    "- pickup_longitude\n",
    "- pickup_latitude\n",
    "- dropoff_longitude\n",
    "- dropoff_latitude\n",
    "- passenger_count\n",
    "\n",
    "Before running any code... which variables seem potentially useful for predicting taxi fares? Do you think permutation importance will necessarily identify these features as important?\n",
    "\n",
    "Once you've thought about it, run `q_1.solution()` below to see how you might think about this before running the code."
   ]
  },
  {
   "cell_type": "code",
   "execution_count": 4,
   "id": "97ab73eb",
   "metadata": {
    "execution": {
     "iopub.execute_input": "2022-07-11T09:21:32.832007Z",
     "iopub.status.busy": "2022-07-11T09:21:32.831049Z",
     "iopub.status.idle": "2022-07-11T09:21:32.838341Z",
     "shell.execute_reply": "2022-07-11T09:21:32.837568Z"
    },
    "papermill": {
     "duration": 0.015963,
     "end_time": "2022-07-11T09:21:32.840305",
     "exception": false,
     "start_time": "2022-07-11T09:21:32.824342",
     "status": "completed"
    },
    "tags": []
   },
   "outputs": [
    {
     "data": {
      "application/javascript": [
       "parent.postMessage({\"jupyterEvent\": \"custom.exercise_interaction\", \"data\": {\"interactionType\": 3, \"questionType\": 4, \"questionId\": \"1_WhichFeaturesAreUseful\", \"learnToolsVersion\": \"0.3.4\", \"valueTowardsCompletion\": 0.0, \"failureMessage\": \"\", \"exceptionClass\": \"\", \"trace\": \"\", \"outcomeType\": 4}}, \"*\")"
      ],
      "text/plain": [
       "<IPython.core.display.Javascript object>"
      ]
     },
     "metadata": {},
     "output_type": "display_data"
    },
    {
     "data": {
      "text/markdown": [
       "<span style=\"color:#33cc99\">Solution:</span> It would be helpful to know whether New York City taxis\n",
       "    vary prices based on how many passengers they have. Most places do not\n",
       "    change fares based on numbers of passengers.\n",
       "    If you assume New York City is the same, then only the top 4 features listed should matter. At first glance, it seems all of those should matter equally.\n",
       "    "
      ],
      "text/plain": [
       "Solution: It would be helpful to know whether New York City taxis\n",
       "    vary prices based on how many passengers they have. Most places do not\n",
       "    change fares based on numbers of passengers.\n",
       "    If you assume New York City is the same, then only the top 4 features listed should matter. At first glance, it seems all of those should matter equally.\n",
       "    "
      ]
     },
     "metadata": {},
     "output_type": "display_data"
    }
   ],
   "source": [
    "# Check your answer (Run this code cell to receive credit!)\n",
    "q_1.solution()"
   ]
  },
  {
   "cell_type": "markdown",
   "id": "60eb71e5",
   "metadata": {
    "papermill": {
     "duration": 0.00501,
     "end_time": "2022-07-11T09:21:32.850685",
     "exception": false,
     "start_time": "2022-07-11T09:21:32.845675",
     "status": "completed"
    },
    "tags": []
   },
   "source": [
    "## Question 2\n",
    "\n",
    "Create a `PermutationImportance` object called `perm` to show the importances from `first_model`.  Fit it with the appropriate data and show the weights.\n",
    "\n",
    "For your convenience, the code from the tutorial has been copied into a comment in this code cell."
   ]
  },
  {
   "cell_type": "code",
   "execution_count": 5,
   "id": "5c4294a4",
   "metadata": {
    "execution": {
     "iopub.execute_input": "2022-07-11T09:21:32.863326Z",
     "iopub.status.busy": "2022-07-11T09:21:32.862640Z",
     "iopub.status.idle": "2022-07-11T09:21:47.049030Z",
     "shell.execute_reply": "2022-07-11T09:21:47.047893Z"
    },
    "papermill": {
     "duration": 14.195425,
     "end_time": "2022-07-11T09:21:47.051396",
     "exception": false,
     "start_time": "2022-07-11T09:21:32.855971",
     "status": "completed"
    },
    "tags": []
   },
   "outputs": [
    {
     "data": {
      "text/html": [
       "<style type='text/css'>\n",
       ".datatable table.frame { margin-bottom: 0; }\n",
       ".datatable table.frame thead { border-bottom: none; }\n",
       ".datatable table.frame tr.coltypes td {  color: #FFFFFF;  line-height: 6px;  padding: 0 0.5em;}\n",
       ".datatable .bool    { background: #DDDD99; }\n",
       ".datatable .object  { background: #565656; }\n",
       ".datatable .int     { background: #5D9E5D; }\n",
       ".datatable .float   { background: #4040CC; }\n",
       ".datatable .str     { background: #CC4040; }\n",
       ".datatable .time    { background: #40CC40; }\n",
       ".datatable .row_index {  background: var(--jp-border-color3);  border-right: 1px solid var(--jp-border-color0);  color: var(--jp-ui-font-color3);  font-size: 9px;}\n",
       ".datatable .frame tbody td { text-align: left; }\n",
       ".datatable .frame tr.coltypes .row_index {  background: var(--jp-border-color0);}\n",
       ".datatable th:nth-child(2) { padding-left: 12px; }\n",
       ".datatable .hellipsis {  color: var(--jp-cell-editor-border-color);}\n",
       ".datatable .vellipsis {  background: var(--jp-layout-color0);  color: var(--jp-cell-editor-border-color);}\n",
       ".datatable .na {  color: var(--jp-cell-editor-border-color);  font-size: 80%;}\n",
       ".datatable .sp {  opacity: 0.25;}\n",
       ".datatable .footer { font-size: 9px; }\n",
       ".datatable .frame_dimensions {  background: var(--jp-border-color3);  border-top: 1px solid var(--jp-border-color0);  color: var(--jp-ui-font-color3);  display: inline-block;  opacity: 0.6;  padding: 1px 10px 1px 5px;}\n",
       "</style>\n"
      ],
      "text/plain": [
       "<IPython.core.display.HTML object>"
      ]
     },
     "metadata": {},
     "output_type": "display_data"
    },
    {
     "data": {
      "application/javascript": [
       "parent.postMessage({\"jupyterEvent\": \"custom.exercise_interaction\", \"data\": {\"outcomeType\": 1, \"valueTowardsCompletion\": 0.16666666666666666, \"interactionType\": 1, \"questionType\": 2, \"questionId\": \"2_FirstPermImportance\", \"learnToolsVersion\": \"0.3.4\", \"failureMessage\": \"\", \"exceptionClass\": \"\", \"trace\": \"\"}}, \"*\")"
      ],
      "text/plain": [
       "<IPython.core.display.Javascript object>"
      ]
     },
     "metadata": {},
     "output_type": "display_data"
    },
    {
     "data": {
      "text/markdown": [
       "<span style=\"color:#33cc33\">Nice job!:</span> Note that these scores can vary slightly from one run to the next.\n",
       "                      But the big picture findings will stay the same each time.\n",
       "                      "
      ],
      "text/plain": [
       "Nice job!: Note that these scores can vary slightly from one run to the next.\n",
       "                      But the big picture findings will stay the same each time.\n",
       "                      "
      ]
     },
     "metadata": {},
     "output_type": "display_data"
    },
    {
     "data": {
      "text/html": [
       "\n",
       "    <style>\n",
       "    table.eli5-weights tr:hover {\n",
       "        filter: brightness(85%);\n",
       "    }\n",
       "</style>\n",
       "\n",
       "\n",
       "\n",
       "    \n",
       "\n",
       "    \n",
       "\n",
       "    \n",
       "\n",
       "    \n",
       "\n",
       "    \n",
       "\n",
       "    \n",
       "\n",
       "\n",
       "    \n",
       "\n",
       "    \n",
       "\n",
       "    \n",
       "\n",
       "    \n",
       "\n",
       "    \n",
       "\n",
       "    \n",
       "\n",
       "\n",
       "    \n",
       "\n",
       "    \n",
       "\n",
       "    \n",
       "\n",
       "    \n",
       "\n",
       "    \n",
       "        <table class=\"eli5-weights eli5-feature-importances\" style=\"border-collapse: collapse; border: none; margin-top: 0em; table-layout: auto;\">\n",
       "    <thead>\n",
       "    <tr style=\"border: none;\">\n",
       "        <th style=\"padding: 0 1em 0 0.5em; text-align: right; border: none;\">Weight</th>\n",
       "        <th style=\"padding: 0 0.5em 0 0.5em; text-align: left; border: none;\">Feature</th>\n",
       "    </tr>\n",
       "    </thead>\n",
       "    <tbody>\n",
       "    \n",
       "        <tr style=\"background-color: hsl(120, 100.00%, 80.00%); border: none;\">\n",
       "            <td style=\"padding: 0 1em 0 0.5em; text-align: right; border: none;\">\n",
       "                0.8426\n",
       "                \n",
       "                    &plusmn; 0.0168\n",
       "                \n",
       "            </td>\n",
       "            <td style=\"padding: 0 0.5em 0 0.5em; text-align: left; border: none;\">\n",
       "                dropoff_latitude\n",
       "            </td>\n",
       "        </tr>\n",
       "    \n",
       "        <tr style=\"background-color: hsl(120, 100.00%, 80.26%); border: none;\">\n",
       "            <td style=\"padding: 0 1em 0 0.5em; text-align: right; border: none;\">\n",
       "                0.8269\n",
       "                \n",
       "                    &plusmn; 0.0211\n",
       "                \n",
       "            </td>\n",
       "            <td style=\"padding: 0 0.5em 0 0.5em; text-align: left; border: none;\">\n",
       "                pickup_latitude\n",
       "            </td>\n",
       "        </tr>\n",
       "    \n",
       "        <tr style=\"background-color: hsl(120, 100.00%, 84.34%); border: none;\">\n",
       "            <td style=\"padding: 0 1em 0 0.5em; text-align: right; border: none;\">\n",
       "                0.5943\n",
       "                \n",
       "                    &plusmn; 0.0436\n",
       "                \n",
       "            </td>\n",
       "            <td style=\"padding: 0 0.5em 0 0.5em; text-align: left; border: none;\">\n",
       "                pickup_longitude\n",
       "            </td>\n",
       "        </tr>\n",
       "    \n",
       "        <tr style=\"background-color: hsl(120, 100.00%, 85.38%); border: none;\">\n",
       "            <td style=\"padding: 0 1em 0 0.5em; text-align: right; border: none;\">\n",
       "                0.5387\n",
       "                \n",
       "                    &plusmn; 0.0273\n",
       "                \n",
       "            </td>\n",
       "            <td style=\"padding: 0 0.5em 0 0.5em; text-align: left; border: none;\">\n",
       "                dropoff_longitude\n",
       "            </td>\n",
       "        </tr>\n",
       "    \n",
       "        <tr style=\"background-color: hsl(0, 100.00%, 99.71%); border: none;\">\n",
       "            <td style=\"padding: 0 1em 0 0.5em; text-align: right; border: none;\">\n",
       "                -0.0020\n",
       "                \n",
       "                    &plusmn; 0.0013\n",
       "                \n",
       "            </td>\n",
       "            <td style=\"padding: 0 0.5em 0 0.5em; text-align: left; border: none;\">\n",
       "                passenger_count\n",
       "            </td>\n",
       "        </tr>\n",
       "    \n",
       "    \n",
       "    </tbody>\n",
       "</table>\n",
       "    \n",
       "\n",
       "    \n",
       "\n",
       "\n",
       "    \n",
       "\n",
       "    \n",
       "\n",
       "    \n",
       "\n",
       "    \n",
       "\n",
       "    \n",
       "\n",
       "    \n",
       "\n",
       "\n",
       "\n"
      ],
      "text/plain": [
       "<IPython.core.display.HTML object>"
      ]
     },
     "execution_count": 5,
     "metadata": {},
     "output_type": "execute_result"
    }
   ],
   "source": [
    "import eli5\n",
    "from eli5.sklearn import PermutationImportance\n",
    "\n",
    "# Make a small change to the code below to use in this problem. \n",
    "perm = PermutationImportance(first_model, random_state=1).fit(val_X, val_y)\n",
    "\n",
    "# Check your answer\n",
    "q_2.check()\n",
    "\n",
    "# uncomment the following line to visualize your results\n",
    "eli5.show_weights(perm, feature_names = val_X.columns.tolist())"
   ]
  },
  {
   "cell_type": "markdown",
   "id": "8fd46905",
   "metadata": {
    "papermill": {
     "duration": 0.005899,
     "end_time": "2022-07-11T09:21:47.063589",
     "exception": false,
     "start_time": "2022-07-11T09:21:47.057690",
     "status": "completed"
    },
    "tags": []
   },
   "source": [
    "Uncomment the lines below for a hint or to see the solution."
   ]
  },
  {
   "cell_type": "code",
   "execution_count": 6,
   "id": "8cdde71a",
   "metadata": {
    "execution": {
     "iopub.execute_input": "2022-07-11T09:21:47.078337Z",
     "iopub.status.busy": "2022-07-11T09:21:47.077618Z",
     "iopub.status.idle": "2022-07-11T09:21:47.082665Z",
     "shell.execute_reply": "2022-07-11T09:21:47.081530Z"
    },
    "papermill": {
     "duration": 0.015242,
     "end_time": "2022-07-11T09:21:47.085010",
     "exception": false,
     "start_time": "2022-07-11T09:21:47.069768",
     "status": "completed"
    },
    "tags": []
   },
   "outputs": [],
   "source": [
    "# q_2.hint()\n",
    "# q_2.solution()"
   ]
  },
  {
   "cell_type": "markdown",
   "id": "9cb30315",
   "metadata": {
    "papermill": {
     "duration": 0.005941,
     "end_time": "2022-07-11T09:21:47.097193",
     "exception": false,
     "start_time": "2022-07-11T09:21:47.091252",
     "status": "completed"
    },
    "tags": []
   },
   "source": [
    "## Question 3\n",
    "Before seeing these results, we might have expected each of the 4 directional features to be equally important.\n",
    "\n",
    "But, on average, the latitude features matter more than the longititude features. Can you come up with any hypotheses for this?\n",
    "\n",
    "After you've thought about it, check here for some possible explanations:"
   ]
  },
  {
   "cell_type": "code",
   "execution_count": 7,
   "id": "347f1b5f",
   "metadata": {
    "execution": {
     "iopub.execute_input": "2022-07-11T09:21:47.111193Z",
     "iopub.status.busy": "2022-07-11T09:21:47.110795Z",
     "iopub.status.idle": "2022-07-11T09:21:47.118545Z",
     "shell.execute_reply": "2022-07-11T09:21:47.117569Z"
    },
    "papermill": {
     "duration": 0.017494,
     "end_time": "2022-07-11T09:21:47.120845",
     "exception": false,
     "start_time": "2022-07-11T09:21:47.103351",
     "status": "completed"
    },
    "tags": []
   },
   "outputs": [
    {
     "data": {
      "application/javascript": [
       "parent.postMessage({\"jupyterEvent\": \"custom.exercise_interaction\", \"data\": {\"interactionType\": 3, \"questionType\": 4, \"questionId\": \"3_WhyLatitude\", \"learnToolsVersion\": \"0.3.4\", \"valueTowardsCompletion\": 0.0, \"failureMessage\": \"\", \"exceptionClass\": \"\", \"trace\": \"\", \"outcomeType\": 4}}, \"*\")"
      ],
      "text/plain": [
       "<IPython.core.display.Javascript object>"
      ]
     },
     "metadata": {},
     "output_type": "display_data"
    },
    {
     "data": {
      "text/markdown": [
       "<span style=\"color:#33cc99\">Solution:</span> \n",
       "    1. Travel might tend to have greater latitude distances than longitude distances. If the longitudes values were generally closer together, shuffling them wouldn't matter as much.\n",
       "    2. Different parts of the city might have different pricing rules (e.g. price per mile), and pricing rules could vary more by latitude than longitude.\n",
       "    3. Tolls might be greater on roads going North<->South (changing latitude) than on roads going East <-> West (changing longitude).  Thus latitude would have a larger effect on the prediction because it captures the amount of the tolls.\n",
       "    "
      ],
      "text/plain": [
       "Solution: \n",
       "    1. Travel might tend to have greater latitude distances than longitude distances. If the longitudes values were generally closer together, shuffling them wouldn't matter as much.\n",
       "    2. Different parts of the city might have different pricing rules (e.g. price per mile), and pricing rules could vary more by latitude than longitude.\n",
       "    3. Tolls might be greater on roads going North<->South (changing latitude) than on roads going East <-> West (changing longitude).  Thus latitude would have a larger effect on the prediction because it captures the amount of the tolls.\n",
       "    "
      ]
     },
     "metadata": {},
     "output_type": "display_data"
    }
   ],
   "source": [
    "# Check your answer (Run this code cell to receive credit!)\n",
    "q_3.solution()"
   ]
  },
  {
   "cell_type": "markdown",
   "id": "a40145bf",
   "metadata": {
    "papermill": {
     "duration": 0.00625,
     "end_time": "2022-07-11T09:21:47.134227",
     "exception": false,
     "start_time": "2022-07-11T09:21:47.127977",
     "status": "completed"
    },
    "tags": []
   },
   "source": [
    "## Question 4\n",
    "\n",
    "Without detailed knowledge of New York City, it's difficult to rule out most hypotheses about why latitude features matter more than longitude.\n",
    "\n",
    "A good next step is to disentangle the effect of being in certain parts of the city from the effect of total distance traveled.  \n",
    "\n",
    "The code below creates new features for longitudinal and latitudinal distance. It then builds a model that adds these new features to those you already had.\n",
    "\n",
    "Fill in two lines of code to calculate and show the importance weights with this new set of features. As usual, you can uncomment lines below to check your code, see a hint or get the solution."
   ]
  },
  {
   "cell_type": "code",
   "execution_count": 8,
   "id": "34f82b4c",
   "metadata": {
    "execution": {
     "iopub.execute_input": "2022-07-11T09:21:47.149144Z",
     "iopub.status.busy": "2022-07-11T09:21:47.148720Z",
     "iopub.status.idle": "2022-07-11T09:21:54.408777Z",
     "shell.execute_reply": "2022-07-11T09:21:54.407649Z"
    },
    "papermill": {
     "duration": 7.269999,
     "end_time": "2022-07-11T09:21:54.410970",
     "exception": false,
     "start_time": "2022-07-11T09:21:47.140971",
     "status": "completed"
    },
    "tags": []
   },
   "outputs": [
    {
     "data": {
      "application/javascript": [
       "parent.postMessage({\"jupyterEvent\": \"custom.exercise_interaction\", \"data\": {\"outcomeType\": 1, \"valueTowardsCompletion\": 0.16666666666666666, \"interactionType\": 1, \"questionType\": 2, \"questionId\": \"4_ImportanceWithAbsFeatures\", \"learnToolsVersion\": \"0.3.4\", \"failureMessage\": \"\", \"exceptionClass\": \"\", \"trace\": \"\"}}, \"*\")"
      ],
      "text/plain": [
       "<IPython.core.display.Javascript object>"
      ]
     },
     "metadata": {},
     "output_type": "display_data"
    },
    {
     "data": {
      "text/markdown": [
       "<span style=\"color:#33cc33\">Correct</span>"
      ],
      "text/plain": [
       "Correct"
      ]
     },
     "metadata": {},
     "output_type": "display_data"
    }
   ],
   "source": [
    "# create new features\n",
    "data['abs_lon_change'] = abs(data.dropoff_longitude - data.pickup_longitude)\n",
    "data['abs_lat_change'] = abs(data.dropoff_latitude - data.pickup_latitude)\n",
    "\n",
    "features_2  = ['pickup_longitude',\n",
    "               'pickup_latitude',\n",
    "               'dropoff_longitude',\n",
    "               'dropoff_latitude',\n",
    "               'abs_lat_change',\n",
    "               'abs_lon_change']\n",
    "\n",
    "X = data[features_2]\n",
    "new_train_X, new_val_X, new_train_y, new_val_y = train_test_split(X, y, random_state=1)\n",
    "second_model = RandomForestRegressor(n_estimators=30, random_state=1).fit(new_train_X, new_train_y)\n",
    "\n",
    "# Create a PermutationImportance object on second_model and fit it to new_val_X and new_val_y\n",
    "# Use a random_state of 1 for reproducible results that match the expected solution.\n",
    "perm2 = PermutationImportance(second_model, random_state=1).fit(new_val_X, new_val_y)\n",
    "\n",
    "# show the weights for the permutation importance you just calculated\n",
    "eli5.show_weights(perm2, feature_names = features_2)\n",
    "\n",
    "# Check your answer\n",
    "q_4.check()"
   ]
  },
  {
   "cell_type": "code",
   "execution_count": 9,
   "id": "00d64742",
   "metadata": {
    "execution": {
     "iopub.execute_input": "2022-07-11T09:21:54.425759Z",
     "iopub.status.busy": "2022-07-11T09:21:54.425368Z",
     "iopub.status.idle": "2022-07-11T09:21:54.434311Z",
     "shell.execute_reply": "2022-07-11T09:21:54.433099Z"
    },
    "papermill": {
     "duration": 0.018938,
     "end_time": "2022-07-11T09:21:54.436448",
     "exception": false,
     "start_time": "2022-07-11T09:21:54.417510",
     "status": "completed"
    },
    "tags": []
   },
   "outputs": [
    {
     "data": {
      "text/html": [
       "\n",
       "    <style>\n",
       "    table.eli5-weights tr:hover {\n",
       "        filter: brightness(85%);\n",
       "    }\n",
       "</style>\n",
       "\n",
       "\n",
       "\n",
       "    \n",
       "\n",
       "    \n",
       "\n",
       "    \n",
       "\n",
       "    \n",
       "\n",
       "    \n",
       "\n",
       "    \n",
       "\n",
       "\n",
       "    \n",
       "\n",
       "    \n",
       "\n",
       "    \n",
       "\n",
       "    \n",
       "\n",
       "    \n",
       "\n",
       "    \n",
       "\n",
       "\n",
       "    \n",
       "\n",
       "    \n",
       "\n",
       "    \n",
       "\n",
       "    \n",
       "\n",
       "    \n",
       "        <table class=\"eli5-weights eli5-feature-importances\" style=\"border-collapse: collapse; border: none; margin-top: 0em; table-layout: auto;\">\n",
       "    <thead>\n",
       "    <tr style=\"border: none;\">\n",
       "        <th style=\"padding: 0 1em 0 0.5em; text-align: right; border: none;\">Weight</th>\n",
       "        <th style=\"padding: 0 0.5em 0 0.5em; text-align: left; border: none;\">Feature</th>\n",
       "    </tr>\n",
       "    </thead>\n",
       "    <tbody>\n",
       "    \n",
       "        <tr style=\"background-color: hsl(120, 100.00%, 80.00%); border: none;\">\n",
       "            <td style=\"padding: 0 1em 0 0.5em; text-align: right; border: none;\">\n",
       "                0.5979\n",
       "                \n",
       "                    &plusmn; 0.0625\n",
       "                \n",
       "            </td>\n",
       "            <td style=\"padding: 0 0.5em 0 0.5em; text-align: left; border: none;\">\n",
       "                abs_lat_change\n",
       "            </td>\n",
       "        </tr>\n",
       "    \n",
       "        <tr style=\"background-color: hsl(120, 100.00%, 83.64%); border: none;\">\n",
       "            <td style=\"padding: 0 1em 0 0.5em; text-align: right; border: none;\">\n",
       "                0.4485\n",
       "                \n",
       "                    &plusmn; 0.0503\n",
       "                \n",
       "            </td>\n",
       "            <td style=\"padding: 0 0.5em 0 0.5em; text-align: left; border: none;\">\n",
       "                abs_lon_change\n",
       "            </td>\n",
       "        </tr>\n",
       "    \n",
       "        <tr style=\"background-color: hsl(120, 100.00%, 95.06%); border: none;\">\n",
       "            <td style=\"padding: 0 1em 0 0.5em; text-align: right; border: none;\">\n",
       "                0.0810\n",
       "                \n",
       "                    &plusmn; 0.0240\n",
       "                \n",
       "            </td>\n",
       "            <td style=\"padding: 0 0.5em 0 0.5em; text-align: left; border: none;\">\n",
       "                pickup_latitude\n",
       "            </td>\n",
       "        </tr>\n",
       "    \n",
       "        <tr style=\"background-color: hsl(120, 100.00%, 95.25%); border: none;\">\n",
       "            <td style=\"padding: 0 1em 0 0.5em; text-align: right; border: none;\">\n",
       "                0.0766\n",
       "                \n",
       "                    &plusmn; 0.0121\n",
       "                \n",
       "            </td>\n",
       "            <td style=\"padding: 0 0.5em 0 0.5em; text-align: left; border: none;\">\n",
       "                dropoff_latitude\n",
       "            </td>\n",
       "        </tr>\n",
       "    \n",
       "        <tr style=\"background-color: hsl(120, 100.00%, 95.50%); border: none;\">\n",
       "            <td style=\"padding: 0 1em 0 0.5em; text-align: right; border: none;\">\n",
       "                0.0709\n",
       "                \n",
       "                    &plusmn; 0.0103\n",
       "                \n",
       "            </td>\n",
       "            <td style=\"padding: 0 0.5em 0 0.5em; text-align: left; border: none;\">\n",
       "                pickup_longitude\n",
       "            </td>\n",
       "        </tr>\n",
       "    \n",
       "        <tr style=\"background-color: hsl(120, 100.00%, 96.02%); border: none;\">\n",
       "            <td style=\"padding: 0 1em 0 0.5em; text-align: right; border: none;\">\n",
       "                0.0596\n",
       "                \n",
       "                    &plusmn; 0.0135\n",
       "                \n",
       "            </td>\n",
       "            <td style=\"padding: 0 0.5em 0 0.5em; text-align: left; border: none;\">\n",
       "                dropoff_longitude\n",
       "            </td>\n",
       "        </tr>\n",
       "    \n",
       "    \n",
       "    </tbody>\n",
       "</table>\n",
       "    \n",
       "\n",
       "    \n",
       "\n",
       "\n",
       "    \n",
       "\n",
       "    \n",
       "\n",
       "    \n",
       "\n",
       "    \n",
       "\n",
       "    \n",
       "\n",
       "    \n",
       "\n",
       "\n",
       "\n"
      ],
      "text/plain": [
       "<IPython.core.display.HTML object>"
      ]
     },
     "execution_count": 9,
     "metadata": {},
     "output_type": "execute_result"
    }
   ],
   "source": [
    "eli5.show_weights(perm2, feature_names = features_2)"
   ]
  },
  {
   "cell_type": "markdown",
   "id": "7940c446",
   "metadata": {
    "papermill": {
     "duration": 0.006125,
     "end_time": "2022-07-11T09:21:54.449219",
     "exception": false,
     "start_time": "2022-07-11T09:21:54.443094",
     "status": "completed"
    },
    "tags": []
   },
   "source": [
    "How would you interpret these importance scores? Distance traveled seems far more important than any location effects. \n",
    "\n",
    "But the location still affects model predictions, and dropoff location now matters slightly more than pickup location. Do you have any hypotheses for why this might be? The techniques in the next lessons will help you` dive into this more."
   ]
  },
  {
   "cell_type": "code",
   "execution_count": 10,
   "id": "8013f3bc",
   "metadata": {
    "execution": {
     "iopub.execute_input": "2022-07-11T09:21:54.463811Z",
     "iopub.status.busy": "2022-07-11T09:21:54.463404Z",
     "iopub.status.idle": "2022-07-11T09:21:54.472414Z",
     "shell.execute_reply": "2022-07-11T09:21:54.471397Z"
    },
    "papermill": {
     "duration": 0.018663,
     "end_time": "2022-07-11T09:21:54.474562",
     "exception": false,
     "start_time": "2022-07-11T09:21:54.455899",
     "status": "completed"
    },
    "tags": []
   },
   "outputs": [
    {
     "data": {
      "application/javascript": [
       "parent.postMessage({\"jupyterEvent\": \"custom.exercise_interaction\", \"data\": {\"interactionType\": 3, \"questionType\": 2, \"questionId\": \"4_ImportanceWithAbsFeatures\", \"learnToolsVersion\": \"0.3.4\", \"valueTowardsCompletion\": 0.0, \"failureMessage\": \"\", \"exceptionClass\": \"\", \"trace\": \"\", \"outcomeType\": 4}}, \"*\")"
      ],
      "text/plain": [
       "<IPython.core.display.Javascript object>"
      ]
     },
     "metadata": {},
     "output_type": "display_data"
    },
    {
     "data": {
      "text/markdown": [
       "<span style=\"color:#33cc99\">Solution:</span> \n",
       "```python\n",
       "\n",
       "data['abs_lon_change'] = abs(data.dropoff_longitude - data.pickup_longitude)\n",
       "data['abs_lat_change'] = abs(data.dropoff_latitude - data.pickup_latitude)\n",
       "\n",
       "features_2  = ['pickup_longitude',\n",
       "               'pickup_latitude',\n",
       "               'dropoff_longitude',\n",
       "               'dropoff_latitude',\n",
       "               'abs_lat_change',\n",
       "               'abs_lon_change']\n",
       "\n",
       "X = data[features_2]\n",
       "new_train_X, new_val_X, new_train_y, new_val_y = train_test_split(X, y, random_state=1)\n",
       "second_model = RandomForestRegressor(n_estimators=30, random_state=1).fit(new_train_X, new_train_y)\n",
       "\n",
       "# Create a PermutationImportance object on second_model and fit it to new_val_X and new_val_y\n",
       "perm2 = PermutationImportance(second_model, random_state=1).fit(new_val_X, new_val_y)\n",
       "\n",
       "# show the weights for the permutation importance you just calculated\n",
       "eli5.show_weights(perm2, feature_names = features_2)\n",
       "\n",
       "```"
      ],
      "text/plain": [
       "Solution: \n",
       "```python\n",
       "\n",
       "data['abs_lon_change'] = abs(data.dropoff_longitude - data.pickup_longitude)\n",
       "data['abs_lat_change'] = abs(data.dropoff_latitude - data.pickup_latitude)\n",
       "\n",
       "features_2  = ['pickup_longitude',\n",
       "               'pickup_latitude',\n",
       "               'dropoff_longitude',\n",
       "               'dropoff_latitude',\n",
       "               'abs_lat_change',\n",
       "               'abs_lon_change']\n",
       "\n",
       "X = data[features_2]\n",
       "new_train_X, new_val_X, new_train_y, new_val_y = train_test_split(X, y, random_state=1)\n",
       "second_model = RandomForestRegressor(n_estimators=30, random_state=1).fit(new_train_X, new_train_y)\n",
       "\n",
       "# Create a PermutationImportance object on second_model and fit it to new_val_X and new_val_y\n",
       "perm2 = PermutationImportance(second_model, random_state=1).fit(new_val_X, new_val_y)\n",
       "\n",
       "# show the weights for the permutation importance you just calculated\n",
       "eli5.show_weights(perm2, feature_names = features_2)\n",
       "\n",
       "```"
      ]
     },
     "metadata": {},
     "output_type": "display_data"
    }
   ],
   "source": [
    "# Check your answer (Run this code cell to receive credit!)\n",
    "q_4.solution()"
   ]
  },
  {
   "cell_type": "markdown",
   "id": "a7e6529a",
   "metadata": {
    "papermill": {
     "duration": 0.006861,
     "end_time": "2022-07-11T09:21:54.488131",
     "exception": false,
     "start_time": "2022-07-11T09:21:54.481270",
     "status": "completed"
    },
    "tags": []
   },
   "source": [
    "## Question 5\n",
    "\n",
    "A colleague observes that the values for `abs_lon_change` and `abs_lat_change` are pretty small (all values are between -0.1 and 0.1), whereas other variables have larger values.  Do you think this could explain why those coordinates had larger permutation importance values in this case?  \n",
    "\n",
    "Consider an alternative where you created and used a feature that was 100X as large for these features, and used that larger feature for training and importance calculations. Would this change the outputted permutaiton importance values?\n",
    "\n",
    "Why or why not?\n",
    "\n",
    "After you have thought about your answer, either try this experiment or look up the answer in the cell below."
   ]
  },
  {
   "cell_type": "code",
   "execution_count": 11,
   "id": "b5037524",
   "metadata": {
    "execution": {
     "iopub.execute_input": "2022-07-11T09:21:54.503927Z",
     "iopub.status.busy": "2022-07-11T09:21:54.503245Z",
     "iopub.status.idle": "2022-07-11T09:21:54.509867Z",
     "shell.execute_reply": "2022-07-11T09:21:54.509109Z"
    },
    "papermill": {
     "duration": 0.016779,
     "end_time": "2022-07-11T09:21:54.511781",
     "exception": false,
     "start_time": "2022-07-11T09:21:54.495002",
     "status": "completed"
    },
    "tags": []
   },
   "outputs": [
    {
     "data": {
      "application/javascript": [
       "parent.postMessage({\"jupyterEvent\": \"custom.exercise_interaction\", \"data\": {\"interactionType\": 3, \"questionType\": 4, \"questionId\": \"5_ScaleUpFeatureMagnitude\", \"learnToolsVersion\": \"0.3.4\", \"valueTowardsCompletion\": 0.0, \"failureMessage\": \"\", \"exceptionClass\": \"\", \"trace\": \"\", \"outcomeType\": 4}}, \"*\")"
      ],
      "text/plain": [
       "<IPython.core.display.Javascript object>"
      ]
     },
     "metadata": {},
     "output_type": "display_data"
    },
    {
     "data": {
      "text/markdown": [
       "<span style=\"color:#33cc99\">Solution:</span> \n",
       "    The scale of features does not affect permutation importance per se. The only reason that rescaling a feature would affect PI is indirectly, if rescaling helped or hurt the ability of the particular learning method we're using to make use of that feature.\n",
       "    That won't happen with tree based models, like the Random Forest used here.\n",
       "    If you are familiar with Ridge Regression, you might be able to think of how that would be affected.\n",
       "    That said, the absolute change features are have high importance because they capture total distance traveled, which is the primary determinant of taxi fares...It is not an artifact of the feature magnitude.\n",
       "    "
      ],
      "text/plain": [
       "Solution: \n",
       "    The scale of features does not affect permutation importance per se. The only reason that rescaling a feature would affect PI is indirectly, if rescaling helped or hurt the ability of the particular learning method we're using to make use of that feature.\n",
       "    That won't happen with tree based models, like the Random Forest used here.\n",
       "    If you are familiar with Ridge Regression, you might be able to think of how that would be affected.\n",
       "    That said, the absolute change features are have high importance because they capture total distance traveled, which is the primary determinant of taxi fares...It is not an artifact of the feature magnitude.\n",
       "    "
      ]
     },
     "metadata": {},
     "output_type": "display_data"
    }
   ],
   "source": [
    "# Check your answer (Run this code cell to receive credit!)\n",
    "q_5.solution()"
   ]
  },
  {
   "cell_type": "markdown",
   "id": "b59fdb55",
   "metadata": {
    "papermill": {
     "duration": 0.006655,
     "end_time": "2022-07-11T09:21:54.525401",
     "exception": false,
     "start_time": "2022-07-11T09:21:54.518746",
     "status": "completed"
    },
    "tags": []
   },
   "source": [
    "## Question 6\n",
    "\n",
    "You've seen that the feature importance for latitudinal distance is greater than the importance of longitudinal distance. From this, can we conclude whether travelling a fixed latitudinal distance tends to be more expensive than traveling the same longitudinal distance?\n",
    "\n",
    "Why or why not? Check your answer below."
   ]
  },
  {
   "cell_type": "code",
   "execution_count": 12,
   "id": "5f3df969",
   "metadata": {
    "execution": {
     "iopub.execute_input": "2022-07-11T09:21:54.541338Z",
     "iopub.status.busy": "2022-07-11T09:21:54.540649Z",
     "iopub.status.idle": "2022-07-11T09:21:54.547680Z",
     "shell.execute_reply": "2022-07-11T09:21:54.546900Z"
    },
    "papermill": {
     "duration": 0.017221,
     "end_time": "2022-07-11T09:21:54.549611",
     "exception": false,
     "start_time": "2022-07-11T09:21:54.532390",
     "status": "completed"
    },
    "tags": []
   },
   "outputs": [
    {
     "data": {
      "application/javascript": [
       "parent.postMessage({\"jupyterEvent\": \"custom.exercise_interaction\", \"data\": {\"interactionType\": 3, \"questionType\": 4, \"questionId\": \"6_FromPermImportanceToMarginalEffect\", \"learnToolsVersion\": \"0.3.4\", \"valueTowardsCompletion\": 0.0, \"failureMessage\": \"\", \"exceptionClass\": \"\", \"trace\": \"\", \"outcomeType\": 4}}, \"*\")"
      ],
      "text/plain": [
       "<IPython.core.display.Javascript object>"
      ]
     },
     "metadata": {},
     "output_type": "display_data"
    },
    {
     "data": {
      "text/markdown": [
       "<span style=\"color:#33cc99\">Solution:</span> \n",
       "    We cannot tell from the permutation importance results whether traveling a fixed latitudinal distance is more or less expensive than traveling the same longitudinal distance.\n",
       "    Possible reasons latitude feature are more important than longitude features\n",
       "    1. latitudinal distances in the dataset tend to be larger\n",
       "    2. it is more expensive to travel a fixed latitudinal distance\n",
       "    3. Both of the above\n",
       "    If abs_lon_change values were very small, longitues could be less important to the model even if the cost per mile of travel in that direction were high.\n",
       "    "
      ],
      "text/plain": [
       "Solution: \n",
       "    We cannot tell from the permutation importance results whether traveling a fixed latitudinal distance is more or less expensive than traveling the same longitudinal distance.\n",
       "    Possible reasons latitude feature are more important than longitude features\n",
       "    1. latitudinal distances in the dataset tend to be larger\n",
       "    2. it is more expensive to travel a fixed latitudinal distance\n",
       "    3. Both of the above\n",
       "    If abs_lon_change values were very small, longitues could be less important to the model even if the cost per mile of travel in that direction were high.\n",
       "    "
      ]
     },
     "metadata": {},
     "output_type": "display_data"
    }
   ],
   "source": [
    "# Check your answer (Run this code cell to receive credit!)\n",
    "q_6.solution()"
   ]
  },
  {
   "cell_type": "markdown",
   "id": "b3f02cd3",
   "metadata": {
    "papermill": {
     "duration": 0.007219,
     "end_time": "2022-07-11T09:21:54.564361",
     "exception": false,
     "start_time": "2022-07-11T09:21:54.557142",
     "status": "completed"
    },
    "tags": []
   },
   "source": [
    "## Keep Going\n",
    "\n",
    "Permutation importance is useful useful for debugging, understanding your model, and communicating a high-level overview from your model.  \n",
    "\n",
    "Next, learn about **[partial dependence plots](https://www.kaggle.com/dansbecker/partial-plots)** to see **how** each feature affects predictions.\n"
   ]
  },
  {
   "cell_type": "markdown",
   "id": "796c7357",
   "metadata": {
    "papermill": {
     "duration": 0.006843,
     "end_time": "2022-07-11T09:21:54.578573",
     "exception": false,
     "start_time": "2022-07-11T09:21:54.571730",
     "status": "completed"
    },
    "tags": []
   },
   "source": [
    "---\n",
    "\n",
    "\n",
    "\n",
    "\n",
    "*Have questions or comments? Visit the [course discussion forum](https://www.kaggle.com/learn/machine-learning-explainability/discussion) to chat with other learners.*"
   ]
  }
 ],
 "metadata": {
  "kernelspec": {
   "display_name": "Python 3",
   "language": "python",
   "name": "python3"
  },
  "language_info": {
   "codemirror_mode": {
    "name": "ipython",
    "version": 3
   },
   "file_extension": ".py",
   "mimetype": "text/x-python",
   "name": "python",
   "nbconvert_exporter": "python",
   "pygments_lexer": "ipython3",
   "version": "3.7.12"
  },
  "papermill": {
   "default_parameters": {},
   "duration": 42.612984,
   "end_time": "2022-07-11T09:21:57.565924",
   "environment_variables": {},
   "exception": null,
   "input_path": "__notebook__.ipynb",
   "output_path": "__notebook__.ipynb",
   "parameters": {},
   "start_time": "2022-07-11T09:21:14.952940",
   "version": "2.3.4"
  }
 },
 "nbformat": 4,
 "nbformat_minor": 5
}
